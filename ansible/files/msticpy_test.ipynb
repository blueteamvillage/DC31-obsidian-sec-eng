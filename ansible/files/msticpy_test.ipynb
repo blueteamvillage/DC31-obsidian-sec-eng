{
 "cells": [
  {
   "cell_type": "markdown",
   "id": "689f1ab1-5346-4bea-b858-fe55a946ed22",
   "metadata": {
    "tags": []
   },
   "source": [
    "# Test"
   ]
  },
  {
   "cell_type": "code",
   "execution_count": 1,
   "id": "dbec5036-8b12-4de1-8842-a902f2f738d7",
   "metadata": {
    "tags": []
   },
   "outputs": [],
   "source": [
    "# Check we are running Python 3.6\n",
    "import sys\n",
    "MIN_REQ_PYTHON = (3,6)\n",
    "if sys.version_info < MIN_REQ_PYTHON:\n",
    "    print('Check the Kernel->Change Kernel menu and ensure that Python 3.6')\n",
    "    print('or later is selected as the active kernel.')\n",
    "    sys.exit(\"Python %s.%s or later is required.\\n\" % MIN_REQ_PYTHON)"
   ]
  },
  {
   "cell_type": "code",
   "execution_count": 2,
   "id": "972a3f5b-7f0e-4382-bef8-0138be162437",
   "metadata": {
    "tags": []
   },
   "outputs": [],
   "source": [
    "# Imports\n",
    "import pandas as pd\n",
    "import msticpy.nbtools as nbtools\n",
    "from datetime import datetime,timedelta\n",
    "import os"
   ]
  },
  {
   "cell_type": "code",
   "execution_count": 3,
   "id": "f3897813-4fb8-46ff-8e1d-bcb31c4ebca9",
   "metadata": {
    "tags": []
   },
   "outputs": [
    {
     "name": "stdout",
     "output_type": "stream",
     "text": [
      "Imports Complete\n"
     ]
    }
   ],
   "source": [
    "# path to config file\n",
    "os.environ['MSTICPYCONFIG'] = '/home/ubuntu/msticpyconfig.yaml'\n",
    "from msticpy.nbtools import *\n",
    "from msticpy.data.data_providers import QueryProvider\n",
    "from msticpy.common.wsconfig import WorkspaceConfig\n",
    "from msticpy.nbtools.data_viewer import DataViewer\n",
    "from msticpy.vis.matrix_plot import plot_matrix\n",
    "from msticpy.nbtools import process_tree as ptree\n",
    "print('Imports Complete')"
   ]
  },
  {
   "cell_type": "code",
   "execution_count": 4,
   "id": "cdfc6d45-a3d1-4940-8890-c2b294f97500",
   "metadata": {},
   "outputs": [
    {
     "ename": "ModuleNotFoundError",
     "evalue": "No module named 'azure.mgmt.resource'",
     "output_type": "error",
     "traceback": [
      "\u001b[0;31m---------------------------------------------------------------------------\u001b[0m",
      "\u001b[0;31mModuleNotFoundError\u001b[0m                       Traceback (most recent call last)",
      "Cell \u001b[0;32mIn[4], line 3\u001b[0m\n\u001b[1;32m      1\u001b[0m \u001b[38;5;66;03m# Interactive settings edit\u001b[39;00m\n\u001b[1;32m      2\u001b[0m \u001b[38;5;66;03m# https://msticpy.readthedocs.io/en/latest/getting_started/SettingsEditor.html#using-mpconfigfile-to-check-and-manage-your-msticpyconfig-yaml\u001b[39;00m\n\u001b[0;32m----> 3\u001b[0m \u001b[38;5;28;01mfrom\u001b[39;00m \u001b[38;5;21;01mmsticpy\u001b[39;00m\u001b[38;5;21;01m.\u001b[39;00m\u001b[38;5;21;01mconfig\u001b[39;00m \u001b[38;5;28;01mimport\u001b[39;00m MpConfigFile, MpConfigEdit, MpConfigControls\n\u001b[1;32m      4\u001b[0m mpconfig \u001b[38;5;241m=\u001b[39m MpConfigFile()\n\u001b[1;32m      5\u001b[0m \u001b[38;5;66;03m# mpconfig.load_default()\u001b[39;00m\n\u001b[1;32m      6\u001b[0m \u001b[38;5;66;03m# mpconfig.view_settings()\u001b[39;00m\n",
      "File \u001b[0;32m/usr/local/lib/python3.10/dist-packages/msticpy/config/__init__.py:19\u001b[0m\n\u001b[1;32m     16\u001b[0m \u001b[38;5;28;01mfrom\u001b[39;00m \u001b[38;5;21;01m.\u001b[39;00m\u001b[38;5;21;01mmp_config_control\u001b[39;00m \u001b[38;5;28;01mimport\u001b[39;00m MpConfigControls\n\u001b[1;32m     18\u001b[0m \u001b[38;5;66;03m# flake8: noqa: F403\u001b[39;00m\n\u001b[0;32m---> 19\u001b[0m \u001b[38;5;28;01mfrom\u001b[39;00m \u001b[38;5;21;01m.\u001b[39;00m\u001b[38;5;21;01mmp_config_edit\u001b[39;00m \u001b[38;5;28;01mimport\u001b[39;00m MpConfigEdit\n\u001b[1;32m     20\u001b[0m \u001b[38;5;28;01mfrom\u001b[39;00m \u001b[38;5;21;01m.\u001b[39;00m\u001b[38;5;21;01mmp_config_file\u001b[39;00m \u001b[38;5;28;01mimport\u001b[39;00m MpConfigFile\n",
      "File \u001b[0;32m/usr/local/lib/python3.10/dist-packages/msticpy/config/mp_config_edit.py:14\u001b[0m\n\u001b[1;32m     12\u001b[0m \u001b[38;5;28;01mfrom\u001b[39;00m \u001b[38;5;21;01m.\u001b[39;00m\u001b[38;5;21;01m.\u001b[39;00m\u001b[38;5;21;01m_version\u001b[39;00m \u001b[38;5;28;01mimport\u001b[39;00m VERSION\n\u001b[1;32m     13\u001b[0m \u001b[38;5;28;01mfrom\u001b[39;00m \u001b[38;5;21;01m.\u001b[39;00m\u001b[38;5;21;01mce_azure\u001b[39;00m \u001b[38;5;28;01mimport\u001b[39;00m CEAzure\n\u001b[0;32m---> 14\u001b[0m \u001b[38;5;28;01mfrom\u001b[39;00m \u001b[38;5;21;01m.\u001b[39;00m\u001b[38;5;21;01mce_azure_sentinel\u001b[39;00m \u001b[38;5;28;01mimport\u001b[39;00m CEAzureSentinel\n\u001b[1;32m     15\u001b[0m \u001b[38;5;28;01mfrom\u001b[39;00m \u001b[38;5;21;01m.\u001b[39;00m\u001b[38;5;21;01mce_data_providers\u001b[39;00m \u001b[38;5;28;01mimport\u001b[39;00m CEDataProviders\n\u001b[1;32m     16\u001b[0m \u001b[38;5;28;01mfrom\u001b[39;00m \u001b[38;5;21;01m.\u001b[39;00m\u001b[38;5;21;01mce_keyvault\u001b[39;00m \u001b[38;5;28;01mimport\u001b[39;00m CEKeyVault\n",
      "File \u001b[0;32m/usr/local/lib/python3.10/dist-packages/msticpy/config/ce_azure_sentinel.py:12\u001b[0m\n\u001b[1;32m      9\u001b[0m \u001b[38;5;28;01mimport\u001b[39;00m \u001b[38;5;21;01mipywidgets\u001b[39;00m \u001b[38;5;28;01mas\u001b[39;00m \u001b[38;5;21;01mwidgets\u001b[39;00m\n\u001b[1;32m     11\u001b[0m \u001b[38;5;28;01mfrom\u001b[39;00m \u001b[38;5;21;01m.\u001b[39;00m\u001b[38;5;21;01m.\u001b[39;00m\u001b[38;5;21;01m_version\u001b[39;00m \u001b[38;5;28;01mimport\u001b[39;00m VERSION\n\u001b[0;32m---> 12\u001b[0m \u001b[38;5;28;01mfrom\u001b[39;00m \u001b[38;5;21;01m.\u001b[39;00m\u001b[38;5;21;01m.\u001b[39;00m\u001b[38;5;21;01mcontext\u001b[39;00m\u001b[38;5;21;01m.\u001b[39;00m\u001b[38;5;21;01mazure\u001b[39;00m\u001b[38;5;21;01m.\u001b[39;00m\u001b[38;5;21;01msentinel_core\u001b[39;00m \u001b[38;5;28;01mimport\u001b[39;00m MicrosoftSentinel\n\u001b[1;32m     13\u001b[0m \u001b[38;5;28;01mfrom\u001b[39;00m \u001b[38;5;21;01m.\u001b[39;00m\u001b[38;5;21;01mce_common\u001b[39;00m \u001b[38;5;28;01mimport\u001b[39;00m (\n\u001b[1;32m     14\u001b[0m     ITEM_LIST_LAYOUT,\n\u001b[1;32m     15\u001b[0m     get_or_create_mpc_section,\n\u001b[1;32m     16\u001b[0m     get_wgt_ctrl,\n\u001b[1;32m     17\u001b[0m     print_debug,\n\u001b[1;32m     18\u001b[0m )\n\u001b[1;32m     19\u001b[0m \u001b[38;5;28;01mfrom\u001b[39;00m \u001b[38;5;21;01m.\u001b[39;00m\u001b[38;5;21;01mcomp_edit\u001b[39;00m \u001b[38;5;28;01mimport\u001b[39;00m CEItemsBase, CompEditDisplayMixin\n",
      "File \u001b[0;32m/usr/local/lib/python3.10/dist-packages/msticpy/context/azure/__init__.py:9\u001b[0m\n\u001b[1;32m      6\u001b[0m \u001b[38;5;124;03m\"\"\"Data provider sub-package.\"\"\"\u001b[39;00m\n\u001b[1;32m      8\u001b[0m \u001b[38;5;66;03m# flake8: noqa: F401\u001b[39;00m\n\u001b[0;32m----> 9\u001b[0m \u001b[38;5;28;01mfrom\u001b[39;00m \u001b[38;5;21;01m.\u001b[39;00m\u001b[38;5;21;01mazure_data\u001b[39;00m \u001b[38;5;28;01mimport\u001b[39;00m AzureData\n\u001b[1;32m     10\u001b[0m \u001b[38;5;28;01mfrom\u001b[39;00m \u001b[38;5;21;01m.\u001b[39;00m\u001b[38;5;21;01msentinel_core\u001b[39;00m \u001b[38;5;28;01mimport\u001b[39;00m MicrosoftSentinel\n",
      "File \u001b[0;32m/usr/local/lib/python3.10/dist-packages/msticpy/context/azure/azure_data.py:15\u001b[0m\n\u001b[1;32m     13\u001b[0m \u001b[38;5;28;01mfrom\u001b[39;00m \u001b[38;5;21;01mazure\u001b[39;00m\u001b[38;5;21;01m.\u001b[39;00m\u001b[38;5;21;01mcommon\u001b[39;00m\u001b[38;5;21;01m.\u001b[39;00m\u001b[38;5;21;01mexceptions\u001b[39;00m \u001b[38;5;28;01mimport\u001b[39;00m CloudError\n\u001b[1;32m     14\u001b[0m \u001b[38;5;28;01mfrom\u001b[39;00m \u001b[38;5;21;01mazure\u001b[39;00m\u001b[38;5;21;01m.\u001b[39;00m\u001b[38;5;21;01mcore\u001b[39;00m\u001b[38;5;21;01m.\u001b[39;00m\u001b[38;5;21;01mexceptions\u001b[39;00m \u001b[38;5;28;01mimport\u001b[39;00m ClientAuthenticationError\n\u001b[0;32m---> 15\u001b[0m \u001b[38;5;28;01mfrom\u001b[39;00m \u001b[38;5;21;01mazure\u001b[39;00m\u001b[38;5;21;01m.\u001b[39;00m\u001b[38;5;21;01mmgmt\u001b[39;00m\u001b[38;5;21;01m.\u001b[39;00m\u001b[38;5;21;01mresource\u001b[39;00m\u001b[38;5;21;01m.\u001b[39;00m\u001b[38;5;21;01msubscriptions\u001b[39;00m \u001b[38;5;28;01mimport\u001b[39;00m SubscriptionClient\n\u001b[1;32m     17\u001b[0m \u001b[38;5;28;01mfrom\u001b[39;00m \u001b[38;5;21;01m.\u001b[39;00m\u001b[38;5;21;01m.\u001b[39;00m\u001b[38;5;21;01m.\u001b[39;00m\u001b[38;5;21;01m_version\u001b[39;00m \u001b[38;5;28;01mimport\u001b[39;00m VERSION\n\u001b[1;32m     18\u001b[0m \u001b[38;5;28;01mfrom\u001b[39;00m \u001b[38;5;21;01m.\u001b[39;00m\u001b[38;5;21;01m.\u001b[39;00m\u001b[38;5;21;01m.\u001b[39;00m\u001b[38;5;21;01mauth\u001b[39;00m\u001b[38;5;21;01m.\u001b[39;00m\u001b[38;5;21;01mazure_auth\u001b[39;00m \u001b[38;5;28;01mimport\u001b[39;00m (\n\u001b[1;32m     19\u001b[0m     AzCredentials,\n\u001b[1;32m     20\u001b[0m     AzureCloudConfig,\n\u001b[0;32m   (...)\u001b[0m\n\u001b[1;32m     23\u001b[0m     only_interactive_cred,\n\u001b[1;32m     24\u001b[0m )\n",
      "\u001b[0;31mModuleNotFoundError\u001b[0m: No module named 'azure.mgmt.resource'"
     ]
    }
   ],
   "source": [
    "# Interactive settings edit\n",
    "# https://msticpy.readthedocs.io/en/latest/getting_started/SettingsEditor.html#using-mpconfigfile-to-check-and-manage-your-msticpyconfig-yaml\n",
    "from msticpy.config import MpConfigFile, MpConfigEdit, MpConfigControls\n",
    "mpconfig = MpConfigFile()\n",
    "# mpconfig.load_default()\n",
    "# mpconfig.view_settings()\n",
    "mpconfig"
   ]
  },
  {
   "cell_type": "code",
   "execution_count": 6,
   "id": "c7c1b946-2df5-4a2c-9b16-29fad87f2635",
   "metadata": {
    "tags": []
   },
   "outputs": [
    {
     "data": {
      "application/vnd.jupyter.widget-view+json": {
       "model_id": "c86cfcf08b484410be4adae73e2b6c60",
       "version_major": 2,
       "version_minor": 0
      },
      "text/plain": [
       "VBox(children=(HTML(value='<h4>Set query time boundaries</h4>'), HBox(children=(DatePicker(value=datetime.date…"
      ]
     },
     "metadata": {},
     "output_type": "display_data"
    }
   ],
   "source": [
    "# q_times = nbwidgets.QueryTime(units='hours', max_before=72, before=1, max_after=0)\n",
    "q_times = nbwidgets.QueryTime(origin_time=datetime(2023, 4, 29), units='days', max_before=3, before=1, max_after=0)\n",
    "q_times.display()"
   ]
  },
  {
   "cell_type": "code",
   "execution_count": 7,
   "id": "5393a5d6-5c94-4e8d-8eab-85385e02752c",
   "metadata": {},
   "outputs": [
    {
     "name": "stdout",
     "output_type": "stream",
     "text": [
      "connected\n"
     ]
    }
   ],
   "source": [
    "# Configuration\n",
    "# if free splunk, \n",
    "#  * enable the 'allowRemoteLogin' setting in your server.conf file - /opt/splunk/etc/system/local/server.conf\n",
    "splunk_prov = QueryProvider('Splunk')\n",
    "splunk_prov.connect()"
   ]
  },
  {
   "cell_type": "code",
   "execution_count": 8,
   "id": "4d55c6f0-9a05-44be-934b-efe146208cf5",
   "metadata": {},
   "outputs": [
    {
     "name": "stderr",
     "output_type": "stream",
     "text": [
      "Waiting Splunk job to complete: 100%|██████████| 100.0/100 [00:01<00:00, 97.32it/s]\n"
     ]
    }
   ],
   "source": [
    "# HTTPError: HTTP 400 Bad Request -- Unknown search command 'index'. = prefix query with 'search'\n",
    "splunk_query = r'''search index=osquery agent.name=ip-172-16-40-100 earliest=\"04/29/2023:01:00:00\" latest=\"04/29/2023:23:00:00\" | spath input=message | search name=\"pack_osquery-custom-pack_authorized_keys\"'''\n",
    "df = splunk_prov.exec_query(splunk_query)\n",
    "\n"
   ]
  },
  {
   "cell_type": "code",
   "execution_count": 9,
   "id": "a900d649-c6a9-4d42-b364-12aced6690f7",
   "metadata": {
    "tags": []
   },
   "outputs": [
    {
     "data": {
      "text/html": [
       "<div>\n",
       "<style scoped>\n",
       "    .dataframe tbody tr th:only-of-type {\n",
       "        vertical-align: middle;\n",
       "    }\n",
       "\n",
       "    .dataframe tbody tr th {\n",
       "        vertical-align: top;\n",
       "    }\n",
       "\n",
       "    .dataframe thead th {\n",
       "        text-align: right;\n",
       "    }\n",
       "</style>\n",
       "<table border=\"1\" class=\"dataframe\">\n",
       "  <thead>\n",
       "    <tr style=\"text-align: right;\">\n",
       "      <th></th>\n",
       "      <th>_bkt</th>\n",
       "      <th>_cd</th>\n",
       "      <th>_indextime</th>\n",
       "      <th>_raw</th>\n",
       "      <th>_serial</th>\n",
       "      <th>_si</th>\n",
       "      <th>_sourcetype</th>\n",
       "      <th>_subsecond</th>\n",
       "      <th>_time</th>\n",
       "      <th>agent.name</th>\n",
       "      <th>...</th>\n",
       "      <th>hostIdentifier</th>\n",
       "      <th>index</th>\n",
       "      <th>linecount</th>\n",
       "      <th>message</th>\n",
       "      <th>name</th>\n",
       "      <th>numerics</th>\n",
       "      <th>source</th>\n",
       "      <th>sourcetype</th>\n",
       "      <th>splunk_server</th>\n",
       "      <th>unixTime</th>\n",
       "    </tr>\n",
       "  </thead>\n",
       "  <tbody>\n",
       "    <tr>\n",
       "      <th>0</th>\n",
       "      <td>osquery~5~BEE3FED0-1943-432F-A851-D74F85B46362</td>\n",
       "      <td>5:147689</td>\n",
       "      <td>1682798112</td>\n",
       "      <td>{\"@timestamp\":\"2023-04-29T19:55:10.887Z\",\"log\"...</td>\n",
       "      <td>738</td>\n",
       "      <td>[ip-172-16-22-20, osquery]</td>\n",
       "      <td>osquery</td>\n",
       "      <td>.887</td>\n",
       "      <td>2023-04-29T19:55:10.887+00:00</td>\n",
       "      <td>ip-172-16-40-100</td>\n",
       "      <td>...</td>\n",
       "      <td>ip-172-16-40-100</td>\n",
       "      <td>osquery</td>\n",
       "      <td>1</td>\n",
       "      <td>[{\"name\":\"pack_osquery-custom-pack_authorized_...</td>\n",
       "      <td>pack_osquery-custom-pack_authorized_keys</td>\n",
       "      <td>false</td>\n",
       "      <td>osquery</td>\n",
       "      <td>osquery</td>\n",
       "      <td>ip-172-16-22-20</td>\n",
       "      <td>1682798108</td>\n",
       "    </tr>\n",
       "  </tbody>\n",
       "</table>\n",
       "<p>1 rows × 28 columns</p>\n",
       "</div>"
      ],
      "text/plain": [
       "                                             _bkt       _cd  _indextime  \\\n",
       "0  osquery~5~BEE3FED0-1943-432F-A851-D74F85B46362  5:147689  1682798112   \n",
       "\n",
       "                                                _raw _serial  \\\n",
       "0  {\"@timestamp\":\"2023-04-29T19:55:10.887Z\",\"log\"...     738   \n",
       "\n",
       "                          _si _sourcetype _subsecond  \\\n",
       "0  [ip-172-16-22-20, osquery]     osquery       .887   \n",
       "\n",
       "                           _time        agent.name  ...    hostIdentifier  \\\n",
       "0  2023-04-29T19:55:10.887+00:00  ip-172-16-40-100  ...  ip-172-16-40-100   \n",
       "\n",
       "     index linecount                                            message  \\\n",
       "0  osquery         1  [{\"name\":\"pack_osquery-custom-pack_authorized_...   \n",
       "\n",
       "                                       name numerics   source sourcetype  \\\n",
       "0  pack_osquery-custom-pack_authorized_keys    false  osquery    osquery   \n",
       "\n",
       "     splunk_server    unixTime  \n",
       "0  ip-172-16-22-20  1682798108  \n",
       "\n",
       "[1 rows x 28 columns]"
      ]
     },
     "execution_count": 9,
     "metadata": {},
     "output_type": "execute_result"
    }
   ],
   "source": [
    "df.head()"
   ]
  },
  {
   "cell_type": "code",
   "execution_count": 10,
   "id": "c9a22bfe-0afb-4c26-8300-22213d59677b",
   "metadata": {},
   "outputs": [
    {
     "data": {
      "text/plain": [
       "['Alerts.list_alerts',\n",
       " 'Alerts.list_alerts_for_dest_ip',\n",
       " 'Alerts.list_alerts_for_src_ip',\n",
       " 'Alerts.list_alerts_for_user',\n",
       " 'Alerts.list_all_alerts',\n",
       " 'Authentication.list_logon_failures',\n",
       " 'Authentication.list_logons_for_account',\n",
       " 'Authentication.list_logons_for_host',\n",
       " 'Authentication.list_logons_for_source_ip',\n",
       " 'SplunkGeneral.get_events_parameterized',\n",
       " 'SplunkGeneral.list_all_datatypes',\n",
       " 'SplunkGeneral.list_all_savedsearches',\n",
       " 'audittrail.list_all_audittrail']"
      ]
     },
     "execution_count": 10,
     "metadata": {},
     "output_type": "execute_result"
    }
   ],
   "source": [
    "splunk_prov.list_queries()"
   ]
  },
  {
   "cell_type": "code",
   "execution_count": null,
   "id": "f570f06a-2a09-4c68-b346-498f5b4694ff",
   "metadata": {},
   "outputs": [],
   "source": []
  }
 ],
 "metadata": {
  "kernelspec": {
   "display_name": "Python 3 (ipykernel)",
   "language": "python",
   "name": "python3"
  },
  "language_info": {
   "codemirror_mode": {
    "name": "ipython",
    "version": 3
   },
   "file_extension": ".py",
   "mimetype": "text/x-python",
   "name": "python",
   "nbconvert_exporter": "python",
   "pygments_lexer": "ipython3",
   "version": "3.10.6"
  }
 },
 "nbformat": 4,
 "nbformat_minor": 5
}
